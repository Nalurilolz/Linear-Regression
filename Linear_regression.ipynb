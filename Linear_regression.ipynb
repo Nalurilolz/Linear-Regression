{
 "cells": [
  {
   "cell_type": "code",
   "execution_count": 1,
   "metadata": {},
   "outputs": [],
   "source": [
    "import pandas as pd\n",
    "from sklearn.model_selection import train_test_split\n",
    "from sklearn import linear_model\n",
    "import statistics as st\n",
    "from word2number import w2n"
   ]
  },
  {
   "cell_type": "code",
   "execution_count": 123,
   "metadata": {},
   "outputs": [
    {
     "name": "stdout",
     "output_type": "stream",
     "text": [
      "0.7786756572206358\n"
     ]
    }
   ],
   "source": [
    "#Linear regression with one feature\n",
    "scores = list()\n",
    "data1 = pd.read_csv('house_data.csv') #Reading data\n",
    "data1 = data1.dropna() #Deleting NaN variables\n",
    "X = data1[['surface']]\n",
    "y = data1.price\n",
    "regr = linear_model.LinearRegression()\n",
    "for i in range(100):\n",
    "    xtrain, xtest, ytrain, ytest = train_test_split(X, y, train_size = 0.8) # Splitting data 80% training / 20% testing\n",
    "    regr.fit(xtrain, ytrain)\n",
    "    scores.append(regr.score(xtest, ytest)) #Storing scores\n",
    "print(st.mean(scores))"
   ]
  },
  {
   "cell_type": "code",
   "execution_count": 121,
   "metadata": {},
   "outputs": [
    {
     "name": "stdout",
     "output_type": "stream",
     "text": [
      "0.7893749811655417\n"
     ]
    }
   ],
   "source": [
    "#Same as before with 2 features\n",
    "scores2 = list()\n",
    "data2 = pd.read_csv('house_data.csv')\n",
    "data2 = data2.dropna()\n",
    "X2 = data2[['surface', 'arrondissement']]\n",
    "y2 = data2.price\n",
    "regr2 = linear_model.LinearRegression()\n",
    "for i in range(100):\n",
    "    xtrain2, xtest2, ytrain2, ytest2 = train_test_split(X2, y2, train_size = 0.8)\n",
    "    regr2.fit(xtrain2, ytrain2)\n",
    "    scores2.append(regr2.score(xtest2, ytest2))\n",
    "print(st.mean(scores2))"
   ]
  },
  {
   "cell_type": "code",
   "execution_count": 122,
   "metadata": {},
   "outputs": [
    {
     "name": "stdout",
     "output_type": "stream",
     "text": [
      "0.8226467196863532\n"
     ]
    }
   ],
   "source": [
    "scores3 = list()\n",
    "data3 = pd.read_csv(\"house_data.csv\")\n",
    "data3 = data3.dropna()\n",
    "#Hot encoding, dropping one feature for Dummy Variable Trap\n",
    "dummies = pd.get_dummies(data3.arrondissement, drop_first=True) \n",
    "merged = pd.concat([data3, dummies], axis = 'columns')\n",
    "final = merged.drop(['arrondissement'], axis= 'columns')\n",
    "#Final result\n",
    "X3 = final.drop('price', axis = 'columns')\n",
    "y3 = final.price\n",
    "regr3 = linear_model.LinearRegression()\n",
    "for i in range(100):\n",
    "    xtrain3, xtest3, ytrain3, ytest3 = train_test_split(X3, y3, train_size = 0.8)\n",
    "    regr3.fit(X3, y3)\n",
    "    scores3.append(regr3.score(xtest3, ytest3))\n",
    "print(st.mean(scores3))"
   ]
  },
  {
   "cell_type": "code",
   "execution_count": 129,
   "metadata": {},
   "outputs": [],
   "source": [
    "#Salary prediction exercise\n",
    "hire = pd.read_csv('hiring.csv')"
   ]
  },
  {
   "cell_type": "code",
   "execution_count": 130,
   "metadata": {},
   "outputs": [],
   "source": [
    "hire.experience = hire.experience.fillna('zero')"
   ]
  },
  {
   "cell_type": "code",
   "execution_count": 131,
   "metadata": {},
   "outputs": [],
   "source": [
    "hire['experience'] = hire['experience'].apply(w2n.word_to_num) # Apply word_to_num on every row of experience"
   ]
  },
  {
   "cell_type": "code",
   "execution_count": 133,
   "metadata": {},
   "outputs": [],
   "source": [
    "import math\n",
    "median = math.floor(hire['test_score(out of 10)'].median())\n",
    "hire.experience = hire.experience.fillna(median)"
   ]
  },
  {
   "cell_type": "code",
   "execution_count": 134,
   "metadata": {},
   "outputs": [],
   "source": [
    "hire['test_score(out of 10)'] = hire['test_score(out of 10)'].fillna(median)"
   ]
  },
  {
   "cell_type": "code",
   "execution_count": 138,
   "metadata": {},
   "outputs": [
    {
     "data": {
      "text/plain": [
       "LinearRegression(copy_X=True, fit_intercept=True, n_jobs=None, normalize=False)"
      ]
     },
     "execution_count": 138,
     "metadata": {},
     "output_type": "execute_result"
    }
   ],
   "source": [
    "regr5 = linear_model.LinearRegression()\n",
    "X5 = hire.drop('salary($)', axis = 'columns')\n",
    "y5 = hire['salary($)']\n",
    "regr5.fit(X5, y5)"
   ]
  },
  {
   "cell_type": "code",
   "execution_count": 140,
   "metadata": {},
   "outputs": [
    {
     "data": {
      "text/plain": [
       "array([53205.96797671])"
      ]
     },
     "execution_count": 140,
     "metadata": {},
     "output_type": "execute_result"
    }
   ],
   "source": [
    "regr5.predict([[2,9,6]])"
   ]
  },
  {
   "cell_type": "code",
   "execution_count": 141,
   "metadata": {},
   "outputs": [
    {
     "data": {
      "text/plain": [
       "array([92002.18340611])"
      ]
     },
     "execution_count": 141,
     "metadata": {},
     "output_type": "execute_result"
    }
   ],
   "source": [
    "regr5.predict([[12,10,10]])"
   ]
  }
 ],
 "metadata": {
  "kernelspec": {
   "display_name": "Python 3",
   "language": "python",
   "name": "python3"
  },
  "language_info": {
   "codemirror_mode": {
    "name": "ipython",
    "version": 3
   },
   "file_extension": ".py",
   "mimetype": "text/x-python",
   "name": "python",
   "nbconvert_exporter": "python",
   "pygments_lexer": "ipython3",
   "version": "3.7.3"
  }
 },
 "nbformat": 4,
 "nbformat_minor": 4
}
